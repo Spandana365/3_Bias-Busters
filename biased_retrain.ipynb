{
  "nbformat": 4,
  "nbformat_minor": 0,
  "metadata": {
    "colab": {
      "provenance": [],
      "gpuType": "T4",
      "authorship_tag": "ABX9TyPygIy/OgrDe4QZrqHvpkYF",
      "include_colab_link": true
    },
    "kernelspec": {
      "name": "python3",
      "display_name": "Python 3"
    },
    "language_info": {
      "name": "python"
    },
    "accelerator": "GPU"
  },
  "cells": [
    {
      "cell_type": "markdown",
      "metadata": {
        "id": "view-in-github",
        "colab_type": "text"
      },
      "source": [
        "<a href=\"https://colab.research.google.com/github/Spandana365/3_Bias-Busters/blob/main/biased_retrain.ipynb\" target=\"_parent\"><img src=\"https://colab.research.google.com/assets/colab-badge.svg\" alt=\"Open In Colab\"/></a>"
      ]
    },
    {
      "cell_type": "code",
      "source": [
        "#gender_biased_retrain.csv"
      ],
      "metadata": {
        "id": "kuYW0RrV6UtP"
      },
      "execution_count": null,
      "outputs": []
    },
    {
      "cell_type": "code",
      "execution_count": 1,
      "metadata": {
        "colab": {
          "base_uri": "https://localhost:8080/"
        },
        "collapsed": true,
        "id": "W0E1GDmJ1AmX",
        "outputId": "f6e6e65c-1fe9-467c-bd43-6723dd0cfbe4"
      },
      "outputs": [
        {
          "output_type": "stream",
          "name": "stdout",
          "text": [
            "Requirement already satisfied: fairlearn in /usr/local/lib/python3.11/dist-packages (0.12.0)\n",
            "Requirement already satisfied: numpy>=1.24.4 in /usr/local/lib/python3.11/dist-packages (from fairlearn) (1.26.4)\n",
            "Requirement already satisfied: pandas>=2.0.3 in /usr/local/lib/python3.11/dist-packages (from fairlearn) (2.2.2)\n",
            "Requirement already satisfied: scikit-learn>=1.2.1 in /usr/local/lib/python3.11/dist-packages (from fairlearn) (1.6.1)\n",
            "Requirement already satisfied: scipy>=1.9.3 in /usr/local/lib/python3.11/dist-packages (from fairlearn) (1.13.1)\n",
            "Requirement already satisfied: python-dateutil>=2.8.2 in /usr/local/lib/python3.11/dist-packages (from pandas>=2.0.3->fairlearn) (2.8.2)\n",
            "Requirement already satisfied: pytz>=2020.1 in /usr/local/lib/python3.11/dist-packages (from pandas>=2.0.3->fairlearn) (2025.1)\n",
            "Requirement already satisfied: tzdata>=2022.7 in /usr/local/lib/python3.11/dist-packages (from pandas>=2.0.3->fairlearn) (2025.1)\n",
            "Requirement already satisfied: joblib>=1.2.0 in /usr/local/lib/python3.11/dist-packages (from scikit-learn>=1.2.1->fairlearn) (1.4.2)\n",
            "Requirement already satisfied: threadpoolctl>=3.1.0 in /usr/local/lib/python3.11/dist-packages (from scikit-learn>=1.2.1->fairlearn) (3.5.0)\n",
            "Requirement already satisfied: six>=1.5 in /usr/local/lib/python3.11/dist-packages (from python-dateutil>=2.8.2->pandas>=2.0.3->fairlearn) (1.17.0)\n"
          ]
        }
      ],
      "source": [
        "!pip install fairlearn\n"
      ]
    },
    {
      "cell_type": "code",
      "source": [
        "import pandas as pd\n",
        "import numpy as np\n",
        "import shap\n",
        "import matplotlib.pyplot as plt\n",
        "import seaborn as sns\n",
        "from fairlearn.metrics import demographic_parity_difference, equalized_odds_difference\n",
        "from fairlearn.reductions import ExponentiatedGradient\n",
        "from fairlearn.reductions import DemographicParity\n",
        "from sklearn.linear_model import LogisticRegression\n",
        "from sklearn.preprocessing import StandardScaler\n",
        "from sklearn.model_selection import train_test_split\n",
        "from sklearn.metrics import accuracy_score\n"
      ],
      "metadata": {
        "id": "5Javy-Dh18Sv"
      },
      "execution_count": 2,
      "outputs": []
    },
    {
      "cell_type": "code",
      "source": [
        "# Upload the dataset to Google Colab\n",
        "from google.colab import files\n",
        "uploaded = files.upload()\n",
        "\n",
        "# Load the dataset\n",
        "df = pd.read_csv('gender_biased_retrain.csv')"
      ],
      "metadata": {
        "colab": {
          "base_uri": "https://localhost:8080/",
          "height": 73
        },
        "id": "jIO0qX7V2HFj",
        "outputId": "35589cff-548b-418b-8ae7-15b807939df0"
      },
      "execution_count": 3,
      "outputs": [
        {
          "output_type": "display_data",
          "data": {
            "text/plain": [
              "<IPython.core.display.HTML object>"
            ],
            "text/html": [
              "\n",
              "     <input type=\"file\" id=\"files-8c1607c0-84f3-4830-92aa-388c87c4389f\" name=\"files[]\" multiple disabled\n",
              "        style=\"border:none\" />\n",
              "     <output id=\"result-8c1607c0-84f3-4830-92aa-388c87c4389f\">\n",
              "      Upload widget is only available when the cell has been executed in the\n",
              "      current browser session. Please rerun this cell to enable.\n",
              "      </output>\n",
              "      <script>// Copyright 2017 Google LLC\n",
              "//\n",
              "// Licensed under the Apache License, Version 2.0 (the \"License\");\n",
              "// you may not use this file except in compliance with the License.\n",
              "// You may obtain a copy of the License at\n",
              "//\n",
              "//      http://www.apache.org/licenses/LICENSE-2.0\n",
              "//\n",
              "// Unless required by applicable law or agreed to in writing, software\n",
              "// distributed under the License is distributed on an \"AS IS\" BASIS,\n",
              "// WITHOUT WARRANTIES OR CONDITIONS OF ANY KIND, either express or implied.\n",
              "// See the License for the specific language governing permissions and\n",
              "// limitations under the License.\n",
              "\n",
              "/**\n",
              " * @fileoverview Helpers for google.colab Python module.\n",
              " */\n",
              "(function(scope) {\n",
              "function span(text, styleAttributes = {}) {\n",
              "  const element = document.createElement('span');\n",
              "  element.textContent = text;\n",
              "  for (const key of Object.keys(styleAttributes)) {\n",
              "    element.style[key] = styleAttributes[key];\n",
              "  }\n",
              "  return element;\n",
              "}\n",
              "\n",
              "// Max number of bytes which will be uploaded at a time.\n",
              "const MAX_PAYLOAD_SIZE = 100 * 1024;\n",
              "\n",
              "function _uploadFiles(inputId, outputId) {\n",
              "  const steps = uploadFilesStep(inputId, outputId);\n",
              "  const outputElement = document.getElementById(outputId);\n",
              "  // Cache steps on the outputElement to make it available for the next call\n",
              "  // to uploadFilesContinue from Python.\n",
              "  outputElement.steps = steps;\n",
              "\n",
              "  return _uploadFilesContinue(outputId);\n",
              "}\n",
              "\n",
              "// This is roughly an async generator (not supported in the browser yet),\n",
              "// where there are multiple asynchronous steps and the Python side is going\n",
              "// to poll for completion of each step.\n",
              "// This uses a Promise to block the python side on completion of each step,\n",
              "// then passes the result of the previous step as the input to the next step.\n",
              "function _uploadFilesContinue(outputId) {\n",
              "  const outputElement = document.getElementById(outputId);\n",
              "  const steps = outputElement.steps;\n",
              "\n",
              "  const next = steps.next(outputElement.lastPromiseValue);\n",
              "  return Promise.resolve(next.value.promise).then((value) => {\n",
              "    // Cache the last promise value to make it available to the next\n",
              "    // step of the generator.\n",
              "    outputElement.lastPromiseValue = value;\n",
              "    return next.value.response;\n",
              "  });\n",
              "}\n",
              "\n",
              "/**\n",
              " * Generator function which is called between each async step of the upload\n",
              " * process.\n",
              " * @param {string} inputId Element ID of the input file picker element.\n",
              " * @param {string} outputId Element ID of the output display.\n",
              " * @return {!Iterable<!Object>} Iterable of next steps.\n",
              " */\n",
              "function* uploadFilesStep(inputId, outputId) {\n",
              "  const inputElement = document.getElementById(inputId);\n",
              "  inputElement.disabled = false;\n",
              "\n",
              "  const outputElement = document.getElementById(outputId);\n",
              "  outputElement.innerHTML = '';\n",
              "\n",
              "  const pickedPromise = new Promise((resolve) => {\n",
              "    inputElement.addEventListener('change', (e) => {\n",
              "      resolve(e.target.files);\n",
              "    });\n",
              "  });\n",
              "\n",
              "  const cancel = document.createElement('button');\n",
              "  inputElement.parentElement.appendChild(cancel);\n",
              "  cancel.textContent = 'Cancel upload';\n",
              "  const cancelPromise = new Promise((resolve) => {\n",
              "    cancel.onclick = () => {\n",
              "      resolve(null);\n",
              "    };\n",
              "  });\n",
              "\n",
              "  // Wait for the user to pick the files.\n",
              "  const files = yield {\n",
              "    promise: Promise.race([pickedPromise, cancelPromise]),\n",
              "    response: {\n",
              "      action: 'starting',\n",
              "    }\n",
              "  };\n",
              "\n",
              "  cancel.remove();\n",
              "\n",
              "  // Disable the input element since further picks are not allowed.\n",
              "  inputElement.disabled = true;\n",
              "\n",
              "  if (!files) {\n",
              "    return {\n",
              "      response: {\n",
              "        action: 'complete',\n",
              "      }\n",
              "    };\n",
              "  }\n",
              "\n",
              "  for (const file of files) {\n",
              "    const li = document.createElement('li');\n",
              "    li.append(span(file.name, {fontWeight: 'bold'}));\n",
              "    li.append(span(\n",
              "        `(${file.type || 'n/a'}) - ${file.size} bytes, ` +\n",
              "        `last modified: ${\n",
              "            file.lastModifiedDate ? file.lastModifiedDate.toLocaleDateString() :\n",
              "                                    'n/a'} - `));\n",
              "    const percent = span('0% done');\n",
              "    li.appendChild(percent);\n",
              "\n",
              "    outputElement.appendChild(li);\n",
              "\n",
              "    const fileDataPromise = new Promise((resolve) => {\n",
              "      const reader = new FileReader();\n",
              "      reader.onload = (e) => {\n",
              "        resolve(e.target.result);\n",
              "      };\n",
              "      reader.readAsArrayBuffer(file);\n",
              "    });\n",
              "    // Wait for the data to be ready.\n",
              "    let fileData = yield {\n",
              "      promise: fileDataPromise,\n",
              "      response: {\n",
              "        action: 'continue',\n",
              "      }\n",
              "    };\n",
              "\n",
              "    // Use a chunked sending to avoid message size limits. See b/62115660.\n",
              "    let position = 0;\n",
              "    do {\n",
              "      const length = Math.min(fileData.byteLength - position, MAX_PAYLOAD_SIZE);\n",
              "      const chunk = new Uint8Array(fileData, position, length);\n",
              "      position += length;\n",
              "\n",
              "      const base64 = btoa(String.fromCharCode.apply(null, chunk));\n",
              "      yield {\n",
              "        response: {\n",
              "          action: 'append',\n",
              "          file: file.name,\n",
              "          data: base64,\n",
              "        },\n",
              "      };\n",
              "\n",
              "      let percentDone = fileData.byteLength === 0 ?\n",
              "          100 :\n",
              "          Math.round((position / fileData.byteLength) * 100);\n",
              "      percent.textContent = `${percentDone}% done`;\n",
              "\n",
              "    } while (position < fileData.byteLength);\n",
              "  }\n",
              "\n",
              "  // All done.\n",
              "  yield {\n",
              "    response: {\n",
              "      action: 'complete',\n",
              "    }\n",
              "  };\n",
              "}\n",
              "\n",
              "scope.google = scope.google || {};\n",
              "scope.google.colab = scope.google.colab || {};\n",
              "scope.google.colab._files = {\n",
              "  _uploadFiles,\n",
              "  _uploadFilesContinue,\n",
              "};\n",
              "})(self);\n",
              "</script> "
            ]
          },
          "metadata": {}
        },
        {
          "output_type": "stream",
          "name": "stdout",
          "text": [
            "Saving gender_biased_retrain.csv to gender_biased_retrain (1).csv\n"
          ]
        }
      ]
    },
    {
      "cell_type": "code",
      "source": [
        "# Convert 'Skills' column into a numerical feature (e.g., count of skills)\n",
        "df['Skills'] = df['Skills'].apply(lambda x: len(x.strip(\"[]\").split(',')))\n",
        "\n",
        "# Convert 'Gender' into numerical values (0 for Male, 1 for Female)\n",
        "df['Gender'] = df['Gender'].map({'Male': 0, 'Female': 1})\n",
        "\n",
        "# Convert 'Recruiter Decision' into numerical values (0 for Not Hired, 1 for Hired)\n",
        "df['Recruiter Decision'] = df['Recruiter Decision'].map({'Not Hired': 0, 'Hired': 1})\n",
        "\n",
        "# Define features (X) and target (y)\n",
        "X = df[['Gender', 'Experience', 'Skills', 'Education', 'Certification', 'Job Role', 'Salary Expectation', 'Project Count']]\n",
        "y = df['Recruiter Decision']\n",
        "\n",
        "# Convert categorical features into numerical ones\n",
        "# For simplicity, let's assume 'Education', 'Certification', and 'Job Role' are categorical\n",
        "education_map = {'Master\\'s': 2, 'PhD': 3, 'Bachelor\\'s': 1}\n",
        "certification_map = {'None': 0, 'PMP': 1, 'Certified Data Scientist': 2, 'AWS Certified': 3, 'Google Cloud Certified': 4}\n",
        "job_role_map = {'Project Manager': 1, 'Cloud Architect': 2, 'Data Scientist': 3, 'Software Engineer': 4}\n",
        "\n",
        "df['Education'] = df['Education'].map(education_map)\n",
        "df['Certification'] = df['Certification'].map(certification_map)\n",
        "df['Job Role'] = df['Job Role'].map(job_role_map)"
      ],
      "metadata": {
        "id": "I5zeQS5P2VKL"
      },
      "execution_count": 4,
      "outputs": []
    },
    {
      "cell_type": "code",
      "source": [
        "print(df.dtypes)"
      ],
      "metadata": {
        "colab": {
          "base_uri": "https://localhost:8080/"
        },
        "id": "f-GyFCf42ooX",
        "outputId": "63b4cb55-b20f-48c9-f57d-228696188b9a"
      },
      "execution_count": 5,
      "outputs": [
        {
          "output_type": "stream",
          "name": "stdout",
          "text": [
            "Name                   object\n",
            "Resume ID              object\n",
            "Skills                  int64\n",
            "Experience              int64\n",
            "Education               int64\n",
            "Certification         float64\n",
            "Job Role                int64\n",
            "Recruiter Decision      int64\n",
            "Salary Expectation      int64\n",
            "Project Count           int64\n",
            "AI Score                int64\n",
            "Gender                  int64\n",
            "dtype: object\n"
          ]
        }
      ]
    },
    {
      "cell_type": "code",
      "source": [
        "from sklearn.impute import SimpleImputer\n",
        "import pandas as pd\n",
        "from sklearn.model_selection import train_test_split\n",
        "from sklearn.linear_model import LogisticRegression\n",
        "from sklearn.impute import SimpleImputer\n",
        "from sklearn.metrics import accuracy_score\n",
        "from google.colab import files\n",
        "from sklearn.preprocessing import StandardScaler # Import the scaler\n",
        "import numpy as np"
      ],
      "metadata": {
        "id": "ty2PKWeU3DMm"
      },
      "execution_count": 6,
      "outputs": []
    },
    {
      "cell_type": "code",
      "source": [
        "# Define features (X) and target (y)\n",
        "X = df[['Gender', 'Experience', 'Skills', 'Education', 'Certification', 'Job Role', 'Salary Expectation', 'Project Count']]\n",
        "y = df['Recruiter Decision']\n",
        "\n",
        "# Impute missing values\n",
        "imputer_num = SimpleImputer(strategy='mean')\n",
        "imputer_cat = SimpleImputer(strategy='most_frequent')\n",
        "\n",
        "# Use .loc to avoid SettingWithCopyWarning\n",
        "X.loc[:, ['Experience', 'Skills', 'Salary Expectation', 'Project Count']] = imputer_num.fit_transform(X[['Experience', 'Skills', 'Salary Expectation', 'Project Count']])\n",
        "X.loc[:, ['Education', 'Certification', 'Job Role']] = imputer_cat.fit_transform(X[['Education', 'Certification', 'Job Role']])\n",
        "\n",
        "# Split data into training and testing sets\n",
        "X_train, X_test, y_train, y_test = train_test_split(X, y, test_size=0.2, random_state=42)\n",
        "\n",
        "# Step 1: Apply Standard Scaling to all numerical features\n",
        "scaler = StandardScaler()\n",
        "X_train_scaled = scaler.fit_transform(X_train)  # Fit & transform training data\n",
        "X_test_scaled = scaler.transform(X_test)  # Transform test data\n",
        "\n",
        "\n",
        "# Convert back to DataFrame\n",
        "X_train = pd.DataFrame(X_train_scaled, columns=X_train.columns)\n",
        "X_test = pd.DataFrame(X_test_scaled, columns=X_test.columns)\n",
        "\n",
        "# ⬇️ APPLY CUSTOM WEIGHTING ⬇️\n",
        "X_train['Gender'] *= 2  # Increase the weight of Gender\n",
        "X_train['Skills'] *= 7  # Normal weight\n",
        "X_train['Experience'] *= 8  # Normal weight\n",
        "X_train['Project Count'] *= 7  # Normal weight\n",
        "X_train['Education'] *= 6  # Increase the weight of Education\n",
        "X_train['Certification'] *= 5  # Normal weight\n",
        "X_train['Job Role'] *= 6  # Normal weight\n",
        "X_train['Salary Expectation'] *= 5  # Normal weight\n",
        "\n",
        "X_test['Gender'] *= 2\n",
        "X_test['Skills'] *= 7\n",
        "X_test['Experience'] *= 8\n",
        "X_test['Project Count'] *= 7\n",
        "X_test['Education'] *= 6\n",
        "X_test['Certification'] *= 5\n",
        "X_test['Job Role'] *= 6\n",
        "X_test['Salary Expectation'] *= 5\n",
        "\n",
        "# Create and train a logistic regression model\n",
        "model = LogisticRegression(max_iter=2000, solver='liblinear', class_weight='balanced')\n",
        "\n",
        "model.fit(X_train, y_train)\n",
        "\n",
        "# Predict on test data\n",
        "predictions = model.predict(X_test)\n",
        "\n",
        "# Evaluate the model\n",
        "accuracy = accuracy_score(y_test, predictions)\n",
        "print(\"Model Accuracy:\", accuracy)\n",
        "\n",
        "new_candidate = pd.DataFrame([{\n",
        "    'Gender': 0,  # Example: Male = 1, Female = 0\n",
        "    'Experience': 5,  # 5 years\n",
        "    'Skills': 7,  # Assume skill rating 1-10\n",
        "    'Education': 3,  # Example: 3 could be Bachelor's\n",
        "    'Certification': 2,  # Number of certifications\n",
        "    'Job Role': 4,  # Encoded Job Role\n",
        "    'Salary Expectation': 50000,  # Example salary expectation\n",
        "    'Project Count': 3  # Number of projects completed\n",
        "}])\n",
        "\n",
        "# Similarly, define `new_candidate_female`\n",
        "new_candidate_female = pd.DataFrame([{\n",
        "    'Gender': 1,  # Female\n",
        "    'Experience': 5,\n",
        "    'Skills': 7,\n",
        "    'Education': 3,\n",
        "    'Certification': 2,\n",
        "    'Job Role': 4,\n",
        "    'Salary Expectation': 50000,\n",
        "    'Project Count': 3\n",
        "}])\n",
        "\n",
        "new_candidate_scaled = scaler.transform(new_candidate)\n",
        "new_candidate_scaled = pd.DataFrame(new_candidate_scaled, columns=X_train.columns)\n",
        "\n",
        "new_candidate_scaled['Gender'] *= 2\n",
        "new_candidate_scaled['Skills'] *= 7\n",
        "new_candidate_scaled['Experience'] *= 8\n",
        "new_candidate_scaled['Project Count'] *= 7\n",
        "new_candidate_scaled['Education'] *= 6\n",
        "new_candidate_scaled['Certification'] *= 5\n",
        "new_candidate_scaled['Job Role'] *= 6\n",
        "new_candidate_scaled['Salary Expectation'] *= 5\n",
        "\n",
        "new_candidate_prediction = model.predict(new_candidate_scaled)\n",
        "print(\"New Candidate Prediction:\", new_candidate_prediction)\n",
        "\n",
        "\n",
        "new_candidate_female_scaled = scaler.transform(new_candidate_female)\n",
        "new_candidate_female_scaled = pd.DataFrame(new_candidate_female_scaled, columns=X_train.columns)\n",
        "\n",
        "new_candidate_female_scaled['Gender'] *= 2\n",
        "new_candidate_female_scaled['Skills'] *= 7\n",
        "new_candidate_female_scaled['Experience'] *= 8\n",
        "new_candidate_female_scaled['Project Count'] *= 7\n",
        "new_candidate_female_scaled['Education'] *= 6\n",
        "new_candidate_female_scaled['Certification'] *= 5\n",
        "new_candidate_female_scaled['Job Role'] *= 6\n",
        "new_candidate_female_scaled['Salary Expectation'] *= 5\n",
        "\n",
        "new_candidate_female_prediction = model.predict(new_candidate_female_scaled)\n",
        "print(\"New Candidate Female Prediction:\", new_candidate_female_prediction)\n"
      ],
      "metadata": {
        "colab": {
          "base_uri": "https://localhost:8080/"
        },
        "id": "tIC0G3TM3HPT",
        "outputId": "170242a0-cbe7-44a7-e919-02f886412edb"
      },
      "execution_count": 7,
      "outputs": [
        {
          "output_type": "stream",
          "name": "stdout",
          "text": [
            "Model Accuracy: 0.59\n",
            "New Candidate Prediction: [1]\n",
            "New Candidate Female Prediction: [0]\n"
          ]
        }
      ]
    },
    {
      "cell_type": "code",
      "source": [
        "\n",
        "\n",
        "# Measure Bias (Demographic Parity Difference & Equalized Odds Difference)\n",
        "dpd_biased = demographic_parity_difference(y_test, predictions, sensitive_features=X_test['Gender'])\n",
        "eod_biased = equalized_odds_difference(y_test, predictions, sensitive_features=X_test['Gender'])\n",
        "\n",
        "print(f\"📊 Biased Model - Demographic Parity Difference: {dpd_biased:.4f}\")\n",
        "print(f\"📊 Biased Model - Equalized Odds Difference: {eod_biased:.4f}\")"
      ],
      "metadata": {
        "colab": {
          "base_uri": "https://localhost:8080/"
        },
        "id": "kVhm_B_-3M-U",
        "outputId": "cb8b992d-607b-4c3e-cfe5-4e7d46159b52"
      },
      "execution_count": 8,
      "outputs": [
        {
          "output_type": "stream",
          "name": "stdout",
          "text": [
            "📊 Biased Model - Demographic Parity Difference: 1.0000\n",
            "📊 Biased Model - Equalized Odds Difference: 1.0000\n"
          ]
        }
      ]
    },
    {
      "cell_type": "markdown",
      "source": [
        "Retraining the model"
      ],
      "metadata": {
        "id": "LUL25gpLCojs"
      }
    },
    {
      "cell_type": "code",
      "source": [
        "# Apply Bias Mitigation using Exponentiated Gradient\n",
        "fair_model = ExponentiatedGradient(LogisticRegression(max_iter=2000, solver='liblinear'),\n",
        "                                   constraints=DemographicParity())\n",
        "'''\n",
        "# Train fair model\n",
        "fair_model.fit(X_train, y_train, sensitive_features=X_train['Gender'])\n",
        "'''\n",
        "\n",
        "import traceback\n",
        "\n",
        "try:\n",
        "    fair_model.fit(X_train, y_train, sensitive_features=X_train[\"Gender\"])\n",
        "except Exception as e:\n",
        "    print(\"⚠ Training Error:\", str(e))\n",
        "    traceback.print_exc()\n",
        "\n",
        "# Predict with Fair Model\n",
        "fair_predictions = fair_model.predict(X_test)\n",
        "\n",
        "# Evaluate Fair Model Accuracy\n",
        "fair_accuracy = accuracy_score(y_test, fair_predictions)\n",
        "print(f\"Fair Model Accuracy: {fair_accuracy:.4f}\")\n",
        "\n",
        "# Measure Bias Again\n",
        "dpd_fair = demographic_parity_difference(y_test, fair_predictions, sensitive_features=X_test['Gender'])\n",
        "eod_fair = equalized_odds_difference(y_test, fair_predictions, sensitive_features=X_test['Gender'])\n",
        "\n",
        "print(f\"✅ Fair Model - Demographic Parity Difference: {dpd_fair:.4f}\")\n",
        "print(f\"✅ Fair Model - Equalized Odds Difference: {eod_fair:.4f}\")\n"
      ],
      "metadata": {
        "colab": {
          "base_uri": "https://localhost:8080/"
        },
        "id": "b6rKIaXe30xq",
        "outputId": "7493b60d-c13d-4b5e-bcd4-5d52680da1e1"
      },
      "execution_count": 29,
      "outputs": [
        {
          "output_type": "stream",
          "name": "stdout",
          "text": [
            "Fair Model Accuracy: 0.4700\n",
            "✅ Fair Model - Demographic Parity Difference: 0.0175\n",
            "✅ Fair Model - Equalized Odds Difference: 0.0328\n"
          ]
        }
      ]
    },
    {
      "cell_type": "code",
      "source": [
        "# Bias Comparison Bar Chart\n",
        "labels = ['Demographic Parity', 'Equalized Odds']\n",
        "biased_scores = [dpd_biased, eod_biased]\n",
        "fair_scores = [dpd_fair, eod_fair]\n",
        "\n",
        "x = np.arange(len(labels))  # Label locations\n",
        "width = 0.35  # Bar width\n",
        "\n",
        "fig, ax = plt.subplots()\n",
        "bars1 = ax.bar(x - width/2, biased_scores, width, label='Biased Model', color='red')\n",
        "bars2 = ax.bar(x + width/2, fair_scores, width, label='Fair Model', color='green')\n",
        "\n",
        "ax.set_ylabel('Bias Score')\n",
        "ax.set_title('Bias Comparison: Biased vs. Fair Model')\n",
        "ax.set_xticks(x)\n",
        "ax.set_xticklabels(labels)\n",
        "ax.legend()\n",
        "\n",
        "plt.show()\n"
      ],
      "metadata": {
        "colab": {
          "base_uri": "https://localhost:8080/",
          "height": 452
        },
        "id": "wlBbnyeb37Y9",
        "outputId": "593480a1-213d-4a8d-fe29-880068d3012f",
        "collapsed": true
      },
      "execution_count": 10,
      "outputs": [
        {
          "output_type": "display_data",
          "data": {
            "text/plain": [
              "<Figure size 640x480 with 1 Axes>"
            ],
            "image/png": "[encoded data removed]"
          },
          "metadata": {}
        }
      ]
    },
    {
      "cell_type": "code",
      "source": [
        "biased_predictions = model.predict(X_test)\n",
        "prediction_diff = sum(biased_predictions != fair_predictions)\n",
        "print(f\"🔍 Number of different predictions due to fairness: {prediction_diff}/{len(y_test)}\")"
      ],
      "metadata": {
        "colab": {
          "base_uri": "https://localhost:8080/"
        },
        "id": "43RuUkYbDCXT",
        "outputId": "f8ed79d5-919f-4b2d-85c1-88f94946d05e"
      },
      "execution_count": 30,
      "outputs": [
        {
          "output_type": "stream",
          "name": "stdout",
          "text": [
            "🔍 Number of different predictions due to fairness: 100/200\n"
          ]
        }
      ]
    },
    {
      "cell_type": "code",
      "source": [
        "# Extract the first trained classifier from Fairlearn\n",
        "if hasattr(fair_model, \"_predictors\") and len(fair_model._predictors) > 0:\n",
        "    fair_base_model = fair_model._predictors[0]  # First trained model\n",
        "    print(\"✅ Successfully extracted the trained fair model.\")\n",
        "else:\n",
        "    print(\"❌ No trained predictors found. The model might be using only reweighting.\")"
      ],
      "metadata": {
        "colab": {
          "base_uri": "https://localhost:8080/"
        },
        "id": "Bhh4wgndFvMU",
        "outputId": "0297819b-2387-489a-b260-fd3e65a5aab5"
      },
      "execution_count": 32,
      "outputs": [
        {
          "output_type": "stream",
          "name": "stdout",
          "text": [
            "❌ No trained predictors found. The model might be using only reweighting.\n"
          ]
        }
      ]
    },
    {
      "cell_type": "code",
      "source": [
        "!pip install fairlearn"
      ],
      "metadata": {
        "colab": {
          "base_uri": "https://localhost:8080/"
        },
        "id": "JkVwwjY_8Nv1",
        "outputId": "f343e616-8515-4da0-9c0a-431cd974499f"
      },
      "execution_count": 12,
      "outputs": [
        {
          "output_type": "stream",
          "name": "stdout",
          "text": [
            "Requirement already satisfied: fairlearn in /usr/local/lib/python3.11/dist-packages (0.12.0)\n",
            "Requirement already satisfied: numpy>=1.24.4 in /usr/local/lib/python3.11/dist-packages (from fairlearn) (1.26.4)\n",
            "Requirement already satisfied: pandas>=2.0.3 in /usr/local/lib/python3.11/dist-packages (from fairlearn) (2.2.2)\n",
            "Requirement already satisfied: scikit-learn>=1.2.1 in /usr/local/lib/python3.11/dist-packages (from fairlearn) (1.6.1)\n",
            "Requirement already satisfied: scipy>=1.9.3 in /usr/local/lib/python3.11/dist-packages (from fairlearn) (1.13.1)\n",
            "Requirement already satisfied: python-dateutil>=2.8.2 in /usr/local/lib/python3.11/dist-packages (from pandas>=2.0.3->fairlearn) (2.8.2)\n",
            "Requirement already satisfied: pytz>=2020.1 in /usr/local/lib/python3.11/dist-packages (from pandas>=2.0.3->fairlearn) (2025.1)\n",
            "Requirement already satisfied: tzdata>=2022.7 in /usr/local/lib/python3.11/dist-packages (from pandas>=2.0.3->fairlearn) (2025.1)\n",
            "Requirement already satisfied: joblib>=1.2.0 in /usr/local/lib/python3.11/dist-packages (from scikit-learn>=1.2.1->fairlearn) (1.4.2)\n",
            "Requirement already satisfied: threadpoolctl>=3.1.0 in /usr/local/lib/python3.11/dist-packages (from scikit-learn>=1.2.1->fairlearn) (3.5.0)\n",
            "Requirement already satisfied: six>=1.5 in /usr/local/lib/python3.11/dist-packages (from python-dateutil>=2.8.2->pandas>=2.0.3->fairlearn) (1.17.0)\n"
          ]
        }
      ]
    },
    {
      "cell_type": "code",
      "source": [
        "from fairlearn.reductions import ExponentiatedGradient\n",
        "from fairlearn.reductions import DemographicParity"
      ],
      "metadata": {
        "id": "Vqk2VxrT8UcV"
      },
      "execution_count": 13,
      "outputs": []
    },
    {
      "cell_type": "code",
      "source": [
        "# Compare Bias Scores Before & After Fairlearn\n",
        "print(\"\\n🔹 Bias Score Comparison\")\n",
        "print(f\"Biased Model - DPD: {dpd_biased:.4f}, EOD: {eod_biased:.4f}\")\n",
        "print(f\"Fair Model - DPD: {dpd_fair:.4f}, EOD: {eod_fair:.4f}\")\n"
      ],
      "metadata": {
        "colab": {
          "base_uri": "https://localhost:8080/"
        },
        "id": "aYkFKyGPDxz9",
        "outputId": "c4e43426-2715-4ca7-9f2f-075e6a3567e6"
      },
      "execution_count": 18,
      "outputs": [
        {
          "output_type": "stream",
          "name": "stdout",
          "text": [
            "\n",
            "🔹 Bias Score Comparison\n",
            "Biased Model - DPD: 1.0000, EOD: 1.0000\n",
            "Fair Model - DPD: 0.0672, EOD: 0.0943\n"
          ]
        }
      ]
    },
    {
      "cell_type": "code",
      "source": [
        "# Check if models were trained\n",
        "if hasattr(fair_model, \"_predictors\") and len(fair_model._predictors) > 0:\n",
        "    print(\"✅ Fair model trained successfully.\")\n",
        "else:\n",
        "    print(\"❌ Fair model training failed.\")"
      ],
      "metadata": {
        "colab": {
          "base_uri": "https://localhost:8080/"
        },
        "id": "YSidI4A5_q7z",
        "outputId": "94e4e3c3-aaf2-4c5f-98ae-9bac0fb2afd6"
      },
      "execution_count": 25,
      "outputs": [
        {
          "output_type": "stream",
          "name": "stdout",
          "text": [
            "❌ Fair model training failed.\n"
          ]
        }
      ]
    },
    {
      "cell_type": "code",
      "source": [
        "!pip show fairlearn"
      ],
      "metadata": {
        "colab": {
          "base_uri": "https://localhost:8080/"
        },
        "id": "BsU-_IpyCK9T",
        "outputId": "175b0c22-2a79-4805-cfc7-0afe38c6b171"
      },
      "execution_count": 28,
      "outputs": [
        {
          "output_type": "stream",
          "name": "stdout",
          "text": [
            "Name: fairlearn\n",
            "Version: 0.12.0\n",
            "Summary: A Python package to assess and improve fairness of machine learning models.\n",
            "Home-page: https://github.com/fairlearn/fairlearn\n",
            "Author: Miroslav Dudik, Richard Edgar, Adrin Jalali, Roman Lutz, Michael Madaio, Hilde Weerts, Allie Saizan, Tamara Atanasoska\n",
            "Author-email: fairlearn-internal@python.org\n",
            "License: \n",
            "Location: /usr/local/lib/python3.11/dist-packages\n",
            "Requires: numpy, pandas, scikit-learn, scipy\n",
            "Required-by: \n"
          ]
        }
      ]
    },
    {
      "cell_type": "code",
      "source": [
        "import numpy as np\n",
        "import matplotlib.pyplot as plt\n",
        "\n",
        "# Bias Comparison Bar Chart\n",
        "labels = [\"Demographic Parity\", \"Equalized Odds\"]\n",
        "biased_scores = [dpd_biased, eod_biased]\n",
        "fair_scores = [dpd_fair, eod_fair]\n",
        "\n",
        "x = np.arange(len(labels))  # Label locations\n",
        "width = 0.35  # Bar width\n",
        "\n",
        "fig, ax = plt.subplots()\n",
        "bars1 = ax.bar(x - width/2, biased_scores, width, label=\"Biased Model\", color=\"red\")\n",
        "bars2 = ax.bar(x + width/2, fair_scores, width, label=\"Fair Model\", color=\"green\")\n",
        "\n",
        "ax.set_ylabel(\"Bias Score\")\n",
        "ax.set_title(\"Bias Comparison: Biased vs. Fair Model\")\n",
        "ax.set_xticks(x)\n",
        "ax.set_xticklabels(labels)\n",
        "ax.legend()\n",
        "\n",
        "plt.show()\n"
      ],
      "metadata": {
        "colab": {
          "base_uri": "https://localhost:8080/",
          "height": 452
        },
        "id": "1i5T9M4FECL4",
        "outputId": "d5e6a399-65ff-4a5b-abe8-5f911433c07b"
      },
      "execution_count": null,
      "outputs": [
        {
          "output_type": "display_data",
          "data": {
            "text/plain": [
              "<Figure size 640x480 with 1 Axes>"
            ],
            "image/png": "[encoded data removed]"
          },
          "metadata": {}
        }
      ]
    },
    {
      "cell_type": "code",
      "source": [
        "print(df.dtypes)"
      ],
      "metadata": {
        "colab": {
          "base_uri": "https://localhost:8080/"
        },
        "id": "4iIsZUHt_0w6",
        "outputId": "762efaf7-5189-4cec-c561-56df0c106d01"
      },
      "execution_count": null,
      "outputs": [
        {
          "output_type": "stream",
          "name": "stdout",
          "text": [
            "Name                   object\n",
            "Resume ID              object\n",
            "Skills                  int64\n",
            "Experience              int64\n",
            "Education               int64\n",
            "Certification         float64\n",
            "Job Role                int64\n",
            "Recruiter Decision      int64\n",
            "Salary Expectation      int64\n",
            "Project Count           int64\n",
            "AI Score                int64\n",
            "Gender                  int64\n",
            "dtype: object\n"
          ]
        }
      ]
    },
    {
      "cell_type": "code",
      "source": [
        "print(df.columns)\n"
      ],
      "metadata": {
        "colab": {
          "base_uri": "https://localhost:8080/"
        },
        "id": "oTVD7THv_of6",
        "outputId": "5bfcf7d6-d11c-4e81-9935-343bb17e4d55"
      },
      "execution_count": null,
      "outputs": [
        {
          "output_type": "stream",
          "name": "stdout",
          "text": [
            "Index(['Name', 'Resume ID', 'Skills', 'Experience', 'Education',\n",
            "       'Certification', 'Job Role', 'Recruiter Decision', 'Salary Expectation',\n",
            "       'Project Count', 'AI Score', 'Gender'],\n",
            "      dtype='object')\n"
          ]
        }
      ]
    },
    {
      "cell_type": "code",
      "source": [
        "non_numeric_cols = df.select_dtypes(include=['object']).columns\n",
        "print(\"Non-numeric columns:\", non_numeric_cols)\n"
      ],
      "metadata": {
        "colab": {
          "base_uri": "https://localhost:8080/"
        },
        "id": "l_RgARtIAjn8",
        "outputId": "d5b6407f-13eb-4d5d-caad-66c7d55f6574"
      },
      "execution_count": null,
      "outputs": [
        {
          "output_type": "stream",
          "name": "stdout",
          "text": [
            "Non-numeric columns: Index(['Name', 'Resume ID'], dtype='object')\n"
          ]
        }
      ]
    },
    {
      "cell_type": "code",
      "source": [
        "print(df['Gender'].unique())\n"
      ],
      "metadata": {
        "colab": {
          "base_uri": "https://localhost:8080/"
        },
        "id": "IPffVRyeBdNP",
        "outputId": "577d8191-fcc8-410c-bde3-449745e663e7"
      },
      "execution_count": null,
      "outputs": [
        {
          "output_type": "stream",
          "name": "stdout",
          "text": [
            "[0 1]\n"
          ]
        }
      ]
    },
    {
      "cell_type": "code",
      "source": [
        "from aif360.datasets import StandardDataset\n",
        "from aif360.metrics import BinaryLabelDatasetMetric\n",
        "\n",
        "# Drop unnecessary columns\n",
        "df = df.drop(columns=['Name', 'Resume ID'], errors='ignore')\n",
        "\n",
        "# Convert dataset to AIF360 format\n",
        "dataset = StandardDataset(\n",
        "    df,\n",
        "    label_name=\"Recruiter Decision\",  # Outcome variable\n",
        "    favorable_classes=[1],  # '1' indicates being hired\n",
        "    protected_attribute_names=[\"Gender\"],  # Attribute for fairness\n",
        "    privileged_classes=[[0]]  # Privileged: Male (Gender=1) ✅ FIXED\n",
        ")\n",
        "\n",
        "# Compute fairness metrics\n",
        "metric = BinaryLabelDatasetMetric(dataset,\n",
        "    privileged_groups=[{\"Gender\": 0}],  # ✅ Ensure integer format\n",
        "    unprivileged_groups=[{\"Gender\": 1}]  # ✅ Ensure integer format\n",
        ")\n",
        "\n",
        "print(f\"📊 Disparate Impact: {metric.disparate_impact():.4f}\")\n",
        "print(f\"📊 Statistical Parity Difference: {metric.statistical_parity_difference():.4f}\")\n"
      ],
      "metadata": {
        "colab": {
          "base_uri": "https://localhost:8080/"
        },
        "id": "A6A0a0sgCXag",
        "outputId": "b44d1dc9-9dfe-497c-cd02-33120cb7d0bc"
      },
      "execution_count": null,
      "outputs": [
        {
          "output_type": "stream",
          "name": "stderr",
          "text": [
            "WARNING:root:Missing Data: 197 rows removed from StandardDataset.\n"
          ]
        },
        {
          "output_type": "stream",
          "name": "stdout",
          "text": [
            "📊 Disparate Impact: 0.6070\n",
            "📊 Statistical Parity Difference: -0.2409\n"
          ]
        }
      ]
    }
  ]
}