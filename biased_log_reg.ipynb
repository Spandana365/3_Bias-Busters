{
  "nbformat": 4,
  "nbformat_minor": 0,
  "metadata": {
    "colab": {
      "provenance": [],
      "authorship_tag": "ABX9TyMcyAZ9sb3kRTLEn96Tk6Bs",
      "include_colab_link": true
    },
    "kernelspec": {
      "name": "python3",
      "display_name": "Python 3"
    },
    "language_info": {
      "name": "python"
    }
  },
  "cells": [
    {
      "cell_type": "markdown",
      "metadata": {
        "id": "view-in-github",
        "colab_type": "text"
      },
      "source": [
        "<a href=\"https://colab.research.google.com/github/Spandana365/3_Bias-Busters/blob/main/biased_log_reg.ipynb\" target=\"_parent\"><img src=\"https://colab.research.google.com/assets/colab-badge.svg\" alt=\"Open In Colab\"/></a>"
      ]
    },
    {
      "cell_type": "code",
      "source": [
        "# gender_bias_hiring (1).csv\n",
        "\n",
        "\n",
        "# Import necessary libraries\n",
        "import pandas as pd\n",
        "from sklearn.model_selection import train_test_split\n",
        "from sklearn.linear_model import LogisticRegression\n",
        "from sklearn.metrics import accuracy_score\n",
        "\n",
        "# Upload the dataset to Google Colab\n",
        "from google.colab import files\n",
        "uploaded = files.upload()\n",
        "\n",
        "# Load the dataset\n",
        "df = pd.read_csv('gender_bias_hiring (1).csv')"
      ],
      "metadata": {
        "colab": {
          "base_uri": "https://localhost:8080/",
          "height": 73
        },
        "id": "xsuDWFCGBAeY",
        "outputId": "44c4d859-04b5-4363-b876-e9397e82b9f3"
      },
      "execution_count": 1,
      "outputs": [
        {
          "output_type": "display_data",
          "data": {
            "text/plain": [
              "<IPython.core.display.HTML object>"
            ],
            "text/html": [
              "\n",
              "     <input type=\"file\" id=\"files-1f3ac82a-b176-4605-9370-27d719e01108\" name=\"files[]\" multiple disabled\n",
              "        style=\"border:none\" />\n",
              "     <output id=\"result-1f3ac82a-b176-4605-9370-27d719e01108\">\n",
              "      Upload widget is only available when the cell has been executed in the\n",
              "      current browser session. Please rerun this cell to enable.\n",
              "      </output>\n",
              "      <script>// Copyright 2017 Google LLC\n",
              "//\n",
              "// Licensed under the Apache License, Version 2.0 (the \"License\");\n",
              "// you may not use this file except in compliance with the License.\n",
              "// You may obtain a copy of the License at\n",
              "//\n",
              "//      http://www.apache.org/licenses/LICENSE-2.0\n",
              "//\n",
              "// Unless required by applicable law or agreed to in writing, software\n",
              "// distributed under the License is distributed on an \"AS IS\" BASIS,\n",
              "// WITHOUT WARRANTIES OR CONDITIONS OF ANY KIND, either express or implied.\n",
              "// See the License for the specific language governing permissions and\n",
              "// limitations under the License.\n",
              "\n",
              "/**\n",
              " * @fileoverview Helpers for google.colab Python module.\n",
              " */\n",
              "(function(scope) {\n",
              "function span(text, styleAttributes = {}) {\n",
              "  const element = document.createElement('span');\n",
              "  element.textContent = text;\n",
              "  for (const key of Object.keys(styleAttributes)) {\n",
              "    element.style[key] = styleAttributes[key];\n",
              "  }\n",
              "  return element;\n",
              "}\n",
              "\n",
              "// Max number of bytes which will be uploaded at a time.\n",
              "const MAX_PAYLOAD_SIZE = 100 * 1024;\n",
              "\n",
              "function _uploadFiles(inputId, outputId) {\n",
              "  const steps = uploadFilesStep(inputId, outputId);\n",
              "  const outputElement = document.getElementById(outputId);\n",
              "  // Cache steps on the outputElement to make it available for the next call\n",
              "  // to uploadFilesContinue from Python.\n",
              "  outputElement.steps = steps;\n",
              "\n",
              "  return _uploadFilesContinue(outputId);\n",
              "}\n",
              "\n",
              "// This is roughly an async generator (not supported in the browser yet),\n",
              "// where there are multiple asynchronous steps and the Python side is going\n",
              "// to poll for completion of each step.\n",
              "// This uses a Promise to block the python side on completion of each step,\n",
              "// then passes the result of the previous step as the input to the next step.\n",
              "function _uploadFilesContinue(outputId) {\n",
              "  const outputElement = document.getElementById(outputId);\n",
              "  const steps = outputElement.steps;\n",
              "\n",
              "  const next = steps.next(outputElement.lastPromiseValue);\n",
              "  return Promise.resolve(next.value.promise).then((value) => {\n",
              "    // Cache the last promise value to make it available to the next\n",
              "    // step of the generator.\n",
              "    outputElement.lastPromiseValue = value;\n",
              "    return next.value.response;\n",
              "  });\n",
              "}\n",
              "\n",
              "/**\n",
              " * Generator function which is called between each async step of the upload\n",
              " * process.\n",
              " * @param {string} inputId Element ID of the input file picker element.\n",
              " * @param {string} outputId Element ID of the output display.\n",
              " * @return {!Iterable<!Object>} Iterable of next steps.\n",
              " */\n",
              "function* uploadFilesStep(inputId, outputId) {\n",
              "  const inputElement = document.getElementById(inputId);\n",
              "  inputElement.disabled = false;\n",
              "\n",
              "  const outputElement = document.getElementById(outputId);\n",
              "  outputElement.innerHTML = '';\n",
              "\n",
              "  const pickedPromise = new Promise((resolve) => {\n",
              "    inputElement.addEventListener('change', (e) => {\n",
              "      resolve(e.target.files);\n",
              "    });\n",
              "  });\n",
              "\n",
              "  const cancel = document.createElement('button');\n",
              "  inputElement.parentElement.appendChild(cancel);\n",
              "  cancel.textContent = 'Cancel upload';\n",
              "  const cancelPromise = new Promise((resolve) => {\n",
              "    cancel.onclick = () => {\n",
              "      resolve(null);\n",
              "    };\n",
              "  });\n",
              "\n",
              "  // Wait for the user to pick the files.\n",
              "  const files = yield {\n",
              "    promise: Promise.race([pickedPromise, cancelPromise]),\n",
              "    response: {\n",
              "      action: 'starting',\n",
              "    }\n",
              "  };\n",
              "\n",
              "  cancel.remove();\n",
              "\n",
              "  // Disable the input element since further picks are not allowed.\n",
              "  inputElement.disabled = true;\n",
              "\n",
              "  if (!files) {\n",
              "    return {\n",
              "      response: {\n",
              "        action: 'complete',\n",
              "      }\n",
              "    };\n",
              "  }\n",
              "\n",
              "  for (const file of files) {\n",
              "    const li = document.createElement('li');\n",
              "    li.append(span(file.name, {fontWeight: 'bold'}));\n",
              "    li.append(span(\n",
              "        `(${file.type || 'n/a'}) - ${file.size} bytes, ` +\n",
              "        `last modified: ${\n",
              "            file.lastModifiedDate ? file.lastModifiedDate.toLocaleDateString() :\n",
              "                                    'n/a'} - `));\n",
              "    const percent = span('0% done');\n",
              "    li.appendChild(percent);\n",
              "\n",
              "    outputElement.appendChild(li);\n",
              "\n",
              "    const fileDataPromise = new Promise((resolve) => {\n",
              "      const reader = new FileReader();\n",
              "      reader.onload = (e) => {\n",
              "        resolve(e.target.result);\n",
              "      };\n",
              "      reader.readAsArrayBuffer(file);\n",
              "    });\n",
              "    // Wait for the data to be ready.\n",
              "    let fileData = yield {\n",
              "      promise: fileDataPromise,\n",
              "      response: {\n",
              "        action: 'continue',\n",
              "      }\n",
              "    };\n",
              "\n",
              "    // Use a chunked sending to avoid message size limits. See b/62115660.\n",
              "    let position = 0;\n",
              "    do {\n",
              "      const length = Math.min(fileData.byteLength - position, MAX_PAYLOAD_SIZE);\n",
              "      const chunk = new Uint8Array(fileData, position, length);\n",
              "      position += length;\n",
              "\n",
              "      const base64 = btoa(String.fromCharCode.apply(null, chunk));\n",
              "      yield {\n",
              "        response: {\n",
              "          action: 'append',\n",
              "          file: file.name,\n",
              "          data: base64,\n",
              "        },\n",
              "      };\n",
              "\n",
              "      let percentDone = fileData.byteLength === 0 ?\n",
              "          100 :\n",
              "          Math.round((position / fileData.byteLength) * 100);\n",
              "      percent.textContent = `${percentDone}% done`;\n",
              "\n",
              "    } while (position < fileData.byteLength);\n",
              "  }\n",
              "\n",
              "  // All done.\n",
              "  yield {\n",
              "    response: {\n",
              "      action: 'complete',\n",
              "    }\n",
              "  };\n",
              "}\n",
              "\n",
              "scope.google = scope.google || {};\n",
              "scope.google.colab = scope.google.colab || {};\n",
              "scope.google.colab._files = {\n",
              "  _uploadFiles,\n",
              "  _uploadFilesContinue,\n",
              "};\n",
              "})(self);\n",
              "</script> "
            ]
          },
          "metadata": {}
        },
        {
          "output_type": "stream",
          "name": "stdout",
          "text": [
            "Saving gender_bias_hiring (1).csv to gender_bias_hiring (1).csv\n"
          ]
        }
      ]
    },
    {
      "cell_type": "code",
      "source": [
        "# Convert 'Skills' column into a numerical feature (e.g., count of skills)\n",
        "df['Skills'] = df['Skills'].apply(lambda x: len(x.strip(\"[]\").split(',')))\n",
        "\n",
        "# Convert 'Gender' into numerical values (0 for Male, 1 for Female)\n",
        "df['Gender'] = df['Gender'].map({'Male': 0, 'Female': 1})\n",
        "\n",
        "# Convert 'Recruiter Decision' into numerical values (0 for Not Hired, 1 for Hired)\n",
        "df['Recruiter Decision'] = df['Recruiter Decision'].map({'Not Hired': 0, 'Hired': 1})\n",
        "\n",
        "# Define features (X) and target (y)\n",
        "X = df[['Gender', 'Experience', 'Skills', 'Education', 'Certification', 'Job Role', 'Salary Expectation', 'Project Count', 'AI Score']]\n",
        "y = df['Recruiter Decision']\n",
        "\n",
        "# Convert categorical features into numerical ones\n",
        "# For simplicity, let's assume 'Education', 'Certification', and 'Job Role' are categorical\n",
        "education_map = {'Master\\'s': 2, 'PhD': 3, 'Bachelor\\'s': 1}\n",
        "certification_map = {'None': 0, 'PMP': 1, 'Certified Data Scientist': 2, 'AWS Certified': 3, 'Google Cloud Certified': 4}\n",
        "job_role_map = {'Project Manager': 1, 'Cloud Architect': 2, 'Data Scientist': 3, 'Software Engineer': 4}\n",
        "\n",
        "df['Education'] = df['Education'].map(education_map)\n",
        "df['Certification'] = df['Certification'].map(certification_map)\n",
        "df['Job Role'] = df['Job Role'].map(job_role_map)"
      ],
      "metadata": {
        "id": "eKZcGI4OBRUv"
      },
      "execution_count": 2,
      "outputs": []
    },
    {
      "cell_type": "code",
      "source": [
        "print(df.dtypes)"
      ],
      "metadata": {
        "colab": {
          "base_uri": "https://localhost:8080/"
        },
        "id": "ZApYGvnpBp7e",
        "outputId": "00d5936a-714f-45d4-d3bf-c253536049fb"
      },
      "execution_count": 3,
      "outputs": [
        {
          "output_type": "stream",
          "name": "stdout",
          "text": [
            "Name                   object\n",
            "Resume ID              object\n",
            "Skills                  int64\n",
            "Experience              int64\n",
            "Education               int64\n",
            "Certification         float64\n",
            "Job Role                int64\n",
            "Recruiter Decision      int64\n",
            "Salary Expectation      int64\n",
            "Project Count           int64\n",
            "AI Score                int64\n",
            "Gender                  int64\n",
            "dtype: object\n"
          ]
        }
      ]
    },
    {
      "cell_type": "code",
      "source": [
        "from sklearn.impute import SimpleImputer\n",
        "import pandas as pd\n",
        "from sklearn.model_selection import train_test_split\n",
        "from sklearn.linear_model import LogisticRegression\n",
        "from sklearn.impute import SimpleImputer\n",
        "from sklearn.metrics import accuracy_score\n",
        "from google.colab import files\n",
        "from sklearn.preprocessing import StandardScaler # Import the scaler\n",
        "import numpy as np"
      ],
      "metadata": {
        "id": "2nT9He9FCdL4"
      },
      "execution_count": 4,
      "outputs": []
    },
    {
      "cell_type": "code",
      "source": [
        "# Define features (X) and target (y)\n",
        "X = df[['Gender', 'Experience', 'Skills', 'Education', 'Certification', 'Job Role', 'Salary Expectation', 'Project Count']]\n",
        "y = df['Recruiter Decision']\n",
        "\n",
        "# Impute missing values\n",
        "imputer_num = SimpleImputer(strategy='mean')\n",
        "imputer_cat = SimpleImputer(strategy='most_frequent')\n",
        "\n",
        "# Use .loc to avoid SettingWithCopyWarning\n",
        "X.loc[:, ['Experience', 'Skills', 'Salary Expectation', 'Project Count']] = imputer_num.fit_transform(X[['Experience', 'Skills', 'Salary Expectation', 'Project Count']])\n",
        "X.loc[:, ['Education', 'Certification', 'Job Role']] = imputer_cat.fit_transform(X[['Education', 'Certification', 'Job Role']])\n",
        "\n",
        "# Split data into training and testing sets\n",
        "X_train, X_test, y_train, y_test = train_test_split(X, y, test_size=0.2, random_state=42)\n",
        "\n",
        "# Step 1: Apply Standard Scaling to all numerical features\n",
        "scaler = StandardScaler()\n",
        "X_train_scaled = scaler.fit_transform(X_train)  # Fit & transform training data\n",
        "X_test_scaled = scaler.transform(X_test)  # Transform test data\n",
        "\n",
        "\n",
        "# Convert back to DataFrame\n",
        "X_train = pd.DataFrame(X_train_scaled, columns=X_train.columns)\n",
        "X_test = pd.DataFrame(X_test_scaled, columns=X_test.columns)\n",
        "'''\n",
        "# ⬇️ APPLY CUSTOM WEIGHTING ⬇️\n",
        "X_train['Gender'] *= 2  # Increase the weight of Gender\n",
        "X_train['Skills'] *= 7  # Normal weight\n",
        "X_train['Experience'] *= 8  # Normal weight\n",
        "X_train['Project Count'] *= 7  # Normal weight\n",
        "X_train['Education'] *= 6  # Increase the weight of Education\n",
        "X_train['Certification'] *= 5  # Normal weight\n",
        "X_train['Job Role'] *= 6  # Normal weight\n",
        "X_train['Salary Expectation'] *= 5  # Normal weight\n",
        "\n",
        "X_test['Gender'] *= 2\n",
        "X_test['Skills'] *= 7\n",
        "X_test['Experience'] *= 8\n",
        "X_test['Project Count'] *= 7\n",
        "X_test['Education'] *= 6\n",
        "X_test['Certification'] *= 5\n",
        "X_test['Job Role'] *= 6\n",
        "X_test['Salary Expectation'] *= 5\n",
        "'''\n",
        "# Create and train a logistic regression model\n",
        "model = LogisticRegression(max_iter=2000, solver='liblinear', class_weight='balanced')\n",
        "\n",
        "model.fit(X_train, y_train)\n",
        "\n",
        "# Predict on test data\n",
        "predictions = model.predict(X_test)\n",
        "\n",
        "# Evaluate the model\n",
        "accuracy = accuracy_score(y_test, predictions)\n",
        "print(\"Model Accuracy:\", accuracy)\n",
        "\n",
        "new_candidate = pd.DataFrame([{\n",
        "    'Gender': 0,  # Example: Male = 1, Female = 0\n",
        "    'Experience': 5,  # 5 years\n",
        "    'Skills': 7,  # Assume skill rating 1-10\n",
        "    'Education': 3,  # Example: 3 could be Bachelor's\n",
        "    'Certification': 2,  # Number of certifications\n",
        "    'Job Role': 4,  # Encoded Job Role\n",
        "    'Salary Expectation': 50000,  # Example salary expectation\n",
        "    'Project Count': 3  # Number of projects completed\n",
        "}])\n",
        "\n",
        "# Similarly, define `new_candidate_female`\n",
        "new_candidate_female = pd.DataFrame([{\n",
        "    'Gender': 1,  # Female\n",
        "    'Experience': 5,\n",
        "    'Skills': 7,\n",
        "    'Education': 3,\n",
        "    'Certification': 2,\n",
        "    'Job Role': 4,\n",
        "    'Salary Expectation': 50000,\n",
        "    'Project Count': 3\n",
        "}])\n",
        "\n",
        "new_candidate_scaled = scaler.transform(new_candidate)\n",
        "new_candidate_scaled = pd.DataFrame(new_candidate_scaled, columns=X_train.columns)\n",
        "\n",
        "new_candidate_scaled['Gender'] *= 2\n",
        "new_candidate_scaled['Skills'] *= 7\n",
        "new_candidate_scaled['Experience'] *= 8\n",
        "new_candidate_scaled['Project Count'] *= 7\n",
        "new_candidate_scaled['Education'] *= 6\n",
        "new_candidate_scaled['Certification'] *= 5\n",
        "new_candidate_scaled['Job Role'] *= 6\n",
        "new_candidate_scaled['Salary Expectation'] *= 5\n",
        "\n",
        "new_candidate_prediction = model.predict(new_candidate_scaled)\n",
        "print(\"New Candidate Prediction:\", new_candidate_prediction)\n",
        "\n",
        "\n",
        "new_candidate_female_scaled = scaler.transform(new_candidate_female)\n",
        "new_candidate_female_scaled = pd.DataFrame(new_candidate_female_scaled, columns=X_train.columns)\n",
        "\n",
        "new_candidate_female_scaled['Gender'] *= 2\n",
        "new_candidate_female_scaled['Skills'] *= 7\n",
        "new_candidate_female_scaled['Experience'] *= 8\n",
        "new_candidate_female_scaled['Project Count'] *= 7\n",
        "new_candidate_female_scaled['Education'] *= 6\n",
        "new_candidate_female_scaled['Certification'] *= 5\n",
        "new_candidate_female_scaled['Job Role'] *= 6\n",
        "new_candidate_female_scaled['Salary Expectation'] *= 5\n",
        "\n",
        "new_candidate_female_prediction = model.predict(new_candidate_female_scaled)\n",
        "print(\"New Candidate Female Prediction:\", new_candidate_female_prediction)\n"
      ],
      "metadata": {
        "colab": {
          "base_uri": "https://localhost:8080/"
        },
        "id": "JGK8_eZ4PRqb",
        "outputId": "60446c65-5ccf-42f0-da3f-00b5c1317cbb"
      },
      "execution_count": 5,
      "outputs": [
        {
          "output_type": "stream",
          "name": "stdout",
          "text": [
            "Model Accuracy: 0.59\n",
            "New Candidate Prediction: [1]\n",
            "New Candidate Female Prediction: [0]\n"
          ]
        }
      ]
    },
    {
      "cell_type": "code",
      "source": [
        "!pip install shap matplotlib seaborn scikit-learn\n",
        "\n",
        "import pandas as pd\n",
        "import numpy as np\n",
        "import shap\n",
        "import matplotlib.pyplot as plt\n",
        "import seaborn as sns\n",
        "from sklearn.model_selection import train_test_split\n",
        "from sklearn.linear_model import LogisticRegression\n",
        "from sklearn.preprocessing import LabelEncoder"
      ],
      "metadata": {
        "colab": {
          "base_uri": "https://localhost:8080/"
        },
        "collapsed": true,
        "id": "NNizaGs-IlSU",
        "outputId": "6f83adea-b292-4b93-e8a7-eed699632edb"
      },
      "execution_count": 6,
      "outputs": [
        {
          "output_type": "stream",
          "name": "stdout",
          "text": [
            "Requirement already satisfied: shap in /usr/local/lib/python3.11/dist-packages (0.46.0)\n",
            "Requirement already satisfied: matplotlib in /usr/local/lib/python3.11/dist-packages (3.10.0)\n",
            "Requirement already satisfied: seaborn in /usr/local/lib/python3.11/dist-packages (0.13.2)\n",
            "Requirement already satisfied: scikit-learn in /usr/local/lib/python3.11/dist-packages (1.6.1)\n",
            "Requirement already satisfied: numpy in /usr/local/lib/python3.11/dist-packages (from shap) (1.26.4)\n",
            "Requirement already satisfied: scipy in /usr/local/lib/python3.11/dist-packages (from shap) (1.13.1)\n",
            "Requirement already satisfied: pandas in /usr/local/lib/python3.11/dist-packages (from shap) (2.2.2)\n",
            "Requirement already satisfied: tqdm>=4.27.0 in /usr/local/lib/python3.11/dist-packages (from shap) (4.67.1)\n",
            "Requirement already satisfied: packaging>20.9 in /usr/local/lib/python3.11/dist-packages (from shap) (24.2)\n",
            "Requirement already satisfied: slicer==0.0.8 in /usr/local/lib/python3.11/dist-packages (from shap) (0.0.8)\n",
            "Requirement already satisfied: numba in /usr/local/lib/python3.11/dist-packages (from shap) (0.60.0)\n",
            "Requirement already satisfied: cloudpickle in /usr/local/lib/python3.11/dist-packages (from shap) (3.1.1)\n",
            "Requirement already satisfied: contourpy>=1.0.1 in /usr/local/lib/python3.11/dist-packages (from matplotlib) (1.3.1)\n",
            "Requirement already satisfied: cycler>=0.10 in /usr/local/lib/python3.11/dist-packages (from matplotlib) (0.12.1)\n",
            "Requirement already satisfied: fonttools>=4.22.0 in /usr/local/lib/python3.11/dist-packages (from matplotlib) (4.56.0)\n",
            "Requirement already satisfied: kiwisolver>=1.3.1 in /usr/local/lib/python3.11/dist-packages (from matplotlib) (1.4.8)\n",
            "Requirement already satisfied: pillow>=8 in /usr/local/lib/python3.11/dist-packages (from matplotlib) (11.1.0)\n",
            "Requirement already satisfied: pyparsing>=2.3.1 in /usr/local/lib/python3.11/dist-packages (from matplotlib) (3.2.1)\n",
            "Requirement already satisfied: python-dateutil>=2.7 in /usr/local/lib/python3.11/dist-packages (from matplotlib) (2.8.2)\n",
            "Requirement already satisfied: joblib>=1.2.0 in /usr/local/lib/python3.11/dist-packages (from scikit-learn) (1.4.2)\n",
            "Requirement already satisfied: threadpoolctl>=3.1.0 in /usr/local/lib/python3.11/dist-packages (from scikit-learn) (3.5.0)\n",
            "Requirement already satisfied: pytz>=2020.1 in /usr/local/lib/python3.11/dist-packages (from pandas->shap) (2025.1)\n",
            "Requirement already satisfied: tzdata>=2022.7 in /usr/local/lib/python3.11/dist-packages (from pandas->shap) (2025.1)\n",
            "Requirement already satisfied: six>=1.5 in /usr/local/lib/python3.11/dist-packages (from python-dateutil>=2.7->matplotlib) (1.17.0)\n",
            "Requirement already satisfied: llvmlite<0.44,>=0.43.0dev0 in /usr/local/lib/python3.11/dist-packages (from numba->shap) (0.43.0)\n"
          ]
        }
      ]
    },
    {
      "cell_type": "code",
      "source": [
        "print(df.dtypes)"
      ],
      "metadata": {
        "colab": {
          "base_uri": "https://localhost:8080/"
        },
        "id": "gvDNnMj5JUqb",
        "outputId": "bd2d564d-9471-4777-d321-5fd590d80873"
      },
      "execution_count": null,
      "outputs": [
        {
          "output_type": "stream",
          "name": "stdout",
          "text": [
            "Name                   object\n",
            "Resume ID              object\n",
            "Skills                  int64\n",
            "Experience              int64\n",
            "Education               int64\n",
            "Certification         float64\n",
            "Job Role                int64\n",
            "Recruiter Decision      int64\n",
            "Salary Expectation      int64\n",
            "Project Count           int64\n",
            "AI Score                int64\n",
            "Gender                  int64\n",
            "dtype: object\n"
          ]
        }
      ]
    },
    {
      "cell_type": "code",
      "source": [
        "feature_importance = np.abs(model.coef_).flatten()\n",
        "sorted_features = pd.DataFrame({'Feature': X_train.columns, 'Importance': feature_importance}).sort_values(by=\"Importance\", ascending=False)\n",
        "print(sorted_features)\n"
      ],
      "metadata": {
        "colab": {
          "base_uri": "https://localhost:8080/"
        },
        "id": "2pPXhkufe31_",
        "outputId": "276af8c7-2616-459c-8d53-84daa8c754b2"
      },
      "execution_count": 7,
      "outputs": [
        {
          "output_type": "stream",
          "name": "stdout",
          "text": [
            "              Feature  Importance\n",
            "0              Gender    0.474671\n",
            "3           Education    0.070889\n",
            "7       Project Count    0.068609\n",
            "2              Skills    0.057644\n",
            "6  Salary Expectation    0.047126\n",
            "1          Experience    0.021353\n",
            "5            Job Role    0.010634\n",
            "4       Certification    0.007383\n"
          ]
        }
      ]
    },
    {
      "cell_type": "code",
      "source": [
        "'''\n",
        "# If X_train is a NumPy array, convert it back to a DataFrame with proper column names\n",
        "if isinstance(X_train, np.ndarray):\n",
        "    feature_names = ['Gender', 'Experience', 'Skills', 'Education', 'Certification', 'Job Role', 'Salary Expectation', 'Project Count']  # Replace with actual feature names\n",
        "    X_train = pd.DataFrame(X_train, columns=feature_names)\n",
        "'''\n",
        "'''\n",
        "# Train Logistic Regression model\n",
        "log_reg = LogisticRegression(max_iter=1000)\n",
        "log_reg.fit(X_train, y_train)\n",
        "'''\n",
        "\n",
        "# Train SHAP Explainer on the final trained model\n",
        "explainer = shap.LinearExplainer(model, X_train)\n",
        "shap_values = explainer(X_train)\n",
        "\n",
        "# Plot SHAP summary with correct feature names\n",
        "shap.summary_plot(shap_values, X_train, feature_names=X_train.columns)\n",
        "\n",
        "'''\n",
        "# SHAP analysis\n",
        "explainer = shap.Explainer(log_reg, X_train)\n",
        "shap_values = explainer(X_train)\n",
        "\n",
        "# Plot SHAP summary with proper feature names\n",
        "shap.summary_plot(shap_values, X_train, feature_names=X_train.columns)\n",
        "'''\n"
      ],
      "metadata": {
        "colab": {
          "base_uri": "https://localhost:8080/",
          "height": 511
        },
        "id": "QvQFWx6oHNeg",
        "outputId": "91986b0d-6515-4cbb-fa12-42827536c8b3"
      },
      "execution_count": 8,
      "outputs": [
        {
          "output_type": "display_data",
          "data": {
            "text/plain": [
              "<Figure size 800x470 with 2 Axes>"
            ],
            "image/png": "[encoded data removed]"
          },
          "metadata": {}
        },
        {
          "output_type": "execute_result",
          "data": {
            "text/plain": [
              "'\\n# SHAP analysis\\nexplainer = shap.Explainer(log_reg, X_train)\\nshap_values = explainer(X_train)\\n\\n# Plot SHAP summary with proper feature names\\nshap.summary_plot(shap_values, X_train, feature_names=X_train.columns)\\n'"
            ],
            "application/vnd.google.colaboratory.intrinsic+json": {
              "type": "string"
            }
          },
          "metadata": {},
          "execution_count": 8
        }
      ]
    },
    {
      "cell_type": "code",
      "source": [
        "!pip install lime\n"
      ],
      "metadata": {
        "colab": {
          "base_uri": "https://localhost:8080/"
        },
        "collapsed": true,
        "id": "KhsmelZCOZah",
        "outputId": "22859852-7c26-4075-8f53-fbd2c81093e1"
      },
      "execution_count": 9,
      "outputs": [
        {
          "output_type": "stream",
          "name": "stdout",
          "text": [
            "Collecting lime\n",
            "  Downloading lime-0.2.0.1.tar.gz (275 kB)\n",
            "\u001b[?25l     \u001b[90m━━━━━━━━━━━━━━━━━━━━━━━━━━━━━━━━━━━━━━━━\u001b[0m \u001b[32m0.0/275.7 kB\u001b[0m \u001b[31m?\u001b[0m eta \u001b[36m-:--:--\u001b[0m\r\u001b[2K     \u001b[91m━━━━━━━━━━━━━━━━\u001b[0m\u001b[90m╺\u001b[0m\u001b[90m━━━━━━━━━━━━━━━━━━━━━━━\u001b[0m \u001b[32m112.6/275.7 kB\u001b[0m \u001b[31m3.3 MB/s\u001b[0m eta \u001b[36m0:00:01\u001b[0m\r\u001b[2K     \u001b[91m━━━━━━━━━━━━━━━━━━━━━━━━━━━━━━━━━━━━━━\u001b[0m\u001b[91m╸\u001b[0m\u001b[90m━\u001b[0m \u001b[32m266.2/275.7 kB\u001b[0m \u001b[31m4.2 MB/s\u001b[0m eta \u001b[36m0:00:01\u001b[0m\r\u001b[2K     \u001b[90m━━━━━━━━━━━━━━━━━━━━━━━━━━━━━━━━━━━━━━━━\u001b[0m \u001b[32m275.7/275.7 kB\u001b[0m \u001b[31m3.6 MB/s\u001b[0m eta \u001b[36m0:00:00\u001b[0m\n",
            "\u001b[?25h  Preparing metadata (setup.py) ... \u001b[?25l\u001b[?25hdone\n",
            "Requirement already satisfied: matplotlib in /usr/local/lib/python3.11/dist-packages (from lime) (3.10.0)\n",
            "Requirement already satisfied: numpy in /usr/local/lib/python3.11/dist-packages (from lime) (1.26.4)\n",
            "Requirement already satisfied: scipy in /usr/local/lib/python3.11/dist-packages (from lime) (1.13.1)\n",
            "Requirement already satisfied: tqdm in /usr/local/lib/python3.11/dist-packages (from lime) (4.67.1)\n",
            "Requirement already satisfied: scikit-learn>=0.18 in /usr/local/lib/python3.11/dist-packages (from lime) (1.6.1)\n",
            "Requirement already satisfied: scikit-image>=0.12 in /usr/local/lib/python3.11/dist-packages (from lime) (0.25.2)\n",
            "Requirement already satisfied: networkx>=3.0 in /usr/local/lib/python3.11/dist-packages (from scikit-image>=0.12->lime) (3.4.2)\n",
            "Requirement already satisfied: pillow>=10.1 in /usr/local/lib/python3.11/dist-packages (from scikit-image>=0.12->lime) (11.1.0)\n",
            "Requirement already satisfied: imageio!=2.35.0,>=2.33 in /usr/local/lib/python3.11/dist-packages (from scikit-image>=0.12->lime) (2.37.0)\n",
            "Requirement already satisfied: tifffile>=2022.8.12 in /usr/local/lib/python3.11/dist-packages (from scikit-image>=0.12->lime) (2025.2.18)\n",
            "Requirement already satisfied: packaging>=21 in /usr/local/lib/python3.11/dist-packages (from scikit-image>=0.12->lime) (24.2)\n",
            "Requirement already satisfied: lazy-loader>=0.4 in /usr/local/lib/python3.11/dist-packages (from scikit-image>=0.12->lime) (0.4)\n",
            "Requirement already satisfied: joblib>=1.2.0 in /usr/local/lib/python3.11/dist-packages (from scikit-learn>=0.18->lime) (1.4.2)\n",
            "Requirement already satisfied: threadpoolctl>=3.1.0 in /usr/local/lib/python3.11/dist-packages (from scikit-learn>=0.18->lime) (3.5.0)\n",
            "Requirement already satisfied: contourpy>=1.0.1 in /usr/local/lib/python3.11/dist-packages (from matplotlib->lime) (1.3.1)\n",
            "Requirement already satisfied: cycler>=0.10 in /usr/local/lib/python3.11/dist-packages (from matplotlib->lime) (0.12.1)\n",
            "Requirement already satisfied: fonttools>=4.22.0 in /usr/local/lib/python3.11/dist-packages (from matplotlib->lime) (4.56.0)\n",
            "Requirement already satisfied: kiwisolver>=1.3.1 in /usr/local/lib/python3.11/dist-packages (from matplotlib->lime) (1.4.8)\n",
            "Requirement already satisfied: pyparsing>=2.3.1 in /usr/local/lib/python3.11/dist-packages (from matplotlib->lime) (3.2.1)\n",
            "Requirement already satisfied: python-dateutil>=2.7 in /usr/local/lib/python3.11/dist-packages (from matplotlib->lime) (2.8.2)\n",
            "Requirement already satisfied: six>=1.5 in /usr/local/lib/python3.11/dist-packages (from python-dateutil>=2.7->matplotlib->lime) (1.17.0)\n",
            "Building wheels for collected packages: lime\n",
            "  Building wheel for lime (setup.py) ... \u001b[?25l\u001b[?25hdone\n",
            "  Created wheel for lime: filename=lime-0.2.0.1-py3-none-any.whl size=283834 sha256=46f2579b1ae46148921a81d2a48b606790944a7f62556be4f6170c76901b5df3\n",
            "  Stored in directory: /root/.cache/pip/wheels/85/fa/a3/9c2d44c9f3cd77cf4e533b58900b2bf4487f2a17e8ec212a3d\n",
            "Successfully built lime\n",
            "Installing collected packages: lime\n",
            "Successfully installed lime-0.2.0.1\n"
          ]
        }
      ]
    },
    {
      "cell_type": "code",
      "source": [
        "import lime\n",
        "import lime.lime_tabular\n",
        "import numpy as np\n",
        "import matplotlib.pyplot as plt\n",
        "\n",
        "# Ensure LIME gets the weighted features\n",
        "explainer = lime.lime_tabular.LimeTabularExplainer(\n",
        "    training_data=X_train.values,  # Ensure it's NumPy for LIME\n",
        "    feature_names=X_train.columns.tolist(),\n",
        "    class_names=['Not Hired', 'Hired'],\n",
        "    mode='classification'\n",
        ")\n",
        "\n",
        "# Pick a test candidate\n",
        "idx = np.random.randint(0, X_test.shape[0])  # Select a random test sample\n",
        "\n",
        "# Generate LIME explanation for one instance\n",
        "exp = explainer.explain_instance(\n",
        "    X_test.iloc[idx].values,  # Use weighted X_test\n",
        "    model.predict_proba,\n",
        "    num_features=5  # Show top 5 influential features\n",
        ")\n",
        "\n",
        "# Extract feature importance values and take absolute values\n",
        "feature_importance = exp.as_list()\n",
        "feature_names, importance_values = zip(*feature_importance)\n",
        "\n",
        "# Convert all values to absolute\n",
        "importance_values = np.abs(importance_values)\n",
        "\n",
        "# Plot manually to ensure all values are positive\n",
        "plt.figure(figsize=(8, 5))\n",
        "plt.barh(feature_names, importance_values, color='blue')\n",
        "plt.xlabel(\"Absolute Importance\")\n",
        "plt.ylabel(\"Feature Name\")\n",
        "plt.title(\"LIME Feature Importance (All Values Positive)\")\n",
        "plt.gca().invert_yaxis()  # Keep the most important feature on top\n",
        "plt.show()\n"
      ],
      "metadata": {
        "colab": {
          "base_uri": "https://localhost:8080/",
          "height": 542
        },
        "id": "qlYjlyFMO1ez",
        "outputId": "3de487f5-88ec-4427-81c8-177178d3ed3d"
      },
      "execution_count": 10,
      "outputs": [
        {
          "output_type": "stream",
          "name": "stderr",
          "text": [
            "/usr/local/lib/python3.11/dist-packages/sklearn/utils/validation.py:2739: UserWarning: X does not have valid feature names, but LogisticRegression was fitted with feature names\n",
            "  warnings.warn(\n"
          ]
        },
        {
          "output_type": "display_data",
          "data": {
            "text/plain": [
              "<Figure size 800x500 with 1 Axes>"
            ],
            "image/png": "[encoded data removed]"
          },
          "metadata": {}
        }
      ]
    },
    {
      "cell_type": "code",
      "source": [
        "\n",
        "# Bias Heatmap\n",
        "coefficients = model.coef_[0]\n",
        "feature_importance = pd.Series(coefficients, index=X.columns)\n",
        "plt.figure(figsize=(8, 6))\n",
        "sns.heatmap(feature_importance.to_frame().T, cmap='coolwarm', annot=True)\n",
        "plt.title('Bias Heatmap (Model Coefficients)')\n",
        "plt.show()"
      ],
      "metadata": {
        "colab": {
          "base_uri": "https://localhost:8080/",
          "height": 662
        },
        "id": "puOStxrkOln-",
        "outputId": "e476a730-f60a-4cd9-efab-acb24cd4cf4c"
      },
      "execution_count": 11,
      "outputs": [
        {
          "output_type": "display_data",
          "data": {
            "text/plain": [
              "<Figure size 800x600 with 2 Axes>"
            ],
            "image/png": "[encoded data removed]"
          },
          "metadata": {}
        }
      ]
    },
    {
      "cell_type": "code",
      "source": [
        "import pandas as pd\n",
        "X_test = pd.DataFrame(X_test, columns=feature_names)  # Ensure DataFrame\n"
      ],
      "metadata": {
        "id": "XNj_rsjYRAgC"
      },
      "execution_count": null,
      "outputs": []
    },
    {
      "cell_type": "code",
      "source": [
        "print(X_test.columns)  # Ensure 'Gender' is a valid column name\n"
      ],
      "metadata": {
        "colab": {
          "base_uri": "https://localhost:8080/"
        },
        "id": "aqR32reZRXSK",
        "outputId": "1e7288f9-e545-40e5-cd2e-6ee4f798d977"
      },
      "execution_count": null,
      "outputs": [
        {
          "output_type": "stream",
          "name": "stdout",
          "text": [
            "Index(['Gender', 'Experience', 'Skills', 'Education', 'Certification',\n",
            "       'Job Role', 'Salary Expectation', 'Project Count'],\n",
            "      dtype='object')\n"
          ]
        }
      ]
    },
    {
      "cell_type": "code",
      "source": [
        "print(X_test['Gender'].unique())  # Check actual values in Gender column\n"
      ],
      "metadata": {
        "colab": {
          "base_uri": "https://localhost:8080/"
        },
        "id": "KW0QcObzRakN",
        "outputId": "2525cd70-2b65-4f09-e7e1-fb616d7d45c5"
      },
      "execution_count": null,
      "outputs": [
        {
          "output_type": "stream",
          "name": "stdout",
          "text": [
            "[-1.98009901  2.02010101]\n"
          ]
        }
      ]
    },
    {
      "cell_type": "code",
      "source": [
        "# Bias Score Function (Updated)\n",
        "def calculate_bias_score(model, X, feature_name):\n",
        "    \"\"\"\n",
        "    Computes bias score based on different groups in a given feature.\n",
        "\n",
        "    Parameters:\n",
        "    model: Trained model\n",
        "    X: Feature DataFrame\n",
        "    feature_name: Column name to analyze bias\n",
        "\n",
        "    Returns:\n",
        "    Bias score between the two groups.\n",
        "    \"\"\"\n",
        "    unique_values = X[feature_name].unique()\n",
        "\n",
        "    if len(unique_values) < 2:\n",
        "        raise ValueError(f\"Feature {feature_name} does not have enough unique values to calculate bias.\")\n",
        "\n",
        "    privileged_value = min(unique_values)  # Pick min value as privileged\n",
        "    unprivileged_value = max(unique_values)  # Pick max value as unprivileged\n",
        "\n",
        "    privileged = X[X[feature_name] == privileged_value]\n",
        "    unprivileged = X[X[feature_name] == unprivileged_value]\n",
        "\n",
        "    if privileged.empty or unprivileged.empty:\n",
        "        raise ValueError(f\"No samples found for privileged ({privileged_value}) or unprivileged ({unprivileged_value}) group.\")\n",
        "\n",
        "    privileged_pred = model.predict(privileged)\n",
        "    unprivileged_pred = model.predict(unprivileged)\n",
        "\n",
        "    bias_score = abs(np.mean(privileged_pred) - np.mean(unprivileged_pred))\n",
        "    return bias_score\n",
        "\n",
        "# Compute Bias Score for Gender\n",
        "bias_score_gender = calculate_bias_score(model, X_test, 'Gender')\n",
        "print(f'Bias Score (Gender): {bias_score_gender}')"
      ],
      "metadata": {
        "colab": {
          "base_uri": "https://localhost:8080/"
        },
        "id": "oZg4GYsuGV3m",
        "outputId": "10087c2f-e1f8-408e-c9e2-895ca6af0ddc"
      },
      "execution_count": 12,
      "outputs": [
        {
          "output_type": "stream",
          "name": "stdout",
          "text": [
            "Bias Score (Gender): 1.0\n"
          ]
        }
      ]
    }
  ]
}